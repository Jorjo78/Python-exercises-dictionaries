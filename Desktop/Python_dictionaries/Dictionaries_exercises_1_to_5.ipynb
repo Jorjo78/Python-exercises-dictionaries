{
 "cells": [
  {
   "cell_type": "markdown",
   "id": "c2dd1f2a",
   "metadata": {},
   "source": [
    "# Dictionaries Exercises 1 to 5\n",
    "This notebook contains the first five exercises on Python dictionaries."
   ]
  },
  {
   "cell_type": "code",
   "execution_count": null,
   "id": "6ecd0792",
   "metadata": {},
   "outputs": [],
   "source": [
    "# Exercise 1\n",
    "# ...existing code..."
   ]
  },
  {
   "cell_type": "code",
   "execution_count": null,
   "id": "9d825392",
   "metadata": {},
   "outputs": [],
   "source": [
    "# Exercise 2\n",
    "# ...existing code..."
   ]
  },
  {
   "cell_type": "code",
   "execution_count": null,
   "id": "d5784e25",
   "metadata": {},
   "outputs": [],
   "source": [
    "# Exercise 3\n",
    "# ...existing code..."
   ]
  },
  {
   "cell_type": "code",
   "execution_count": null,
   "id": "39b2cf1c",
   "metadata": {},
   "outputs": [],
   "source": [
    "# Exercise 4\n",
    "# ...existing code..."
   ]
  },
  {
   "cell_type": "code",
   "execution_count": null,
   "id": "5307d3f9",
   "metadata": {},
   "outputs": [],
   "source": [
    "# Exercise 5\n",
    "# ...existing code..."
   ]
  }
 ],
 "metadata": {
  "language_info": {
   "name": "python"
  }
 },
 "nbformat": 4,
 "nbformat_minor": 5
}
