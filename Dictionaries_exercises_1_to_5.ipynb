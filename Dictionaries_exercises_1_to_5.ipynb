{
 "cells": [
  {
   "cell_type": "code",
   "execution_count": null,
   "id": "28ed4f2b",
   "metadata": {},
   "outputs": [],
   "source": [
    "## 1. Creating and Accessing a Dictionary\n",
    "## Objective: Practice defining a dictionary and accessing its values using keys.\n",
    "\n",
    "## Create a dictionary called book that stores the following information: the title (\"1984\"),\n",
    "## the author (\"George Orwell\"), and the year published (1949). Write code to print each value from\n",
    "## the dictionary using its key."
   ]
  },
  {
   "cell_type": "code",
   "execution_count": 8,
   "id": "f94768bc",
   "metadata": {},
   "outputs": [
    {
     "name": "stdout",
     "output_type": "stream",
     "text": [
      "1984\n",
      "George Orwell\n",
      "1949\n",
      "1984\n",
      "George Orwell\n",
      "1949\n"
     ]
    }
   ],
   "source": [
    "book = {'title' : '1984', 'author' : 'George Orwell', 'year published' : '1949'}\n",
    "print(book['title'])\n",
    "print(book['author'])\n",
    "print(book['year published'])\n",
    "\n",
    "## version with for loop\n",
    "for v in book.values():\n",
    "    print(v)\n"
   ]
  },
  {
   "cell_type": "code",
   "execution_count": null,
   "id": "212ef3b8",
   "metadata": {},
   "outputs": [],
   "source": [
    "## 2. Modifying and Deleting Dictionary Entries\n",
    "## Objective: Practice modifying existing values, adding new key-value pairs, and removing pairs from a dictionary.\n",
    "\n",
    "## Given a dictionary car = {'make': 'toyota', 'model': 'corolla', 'year': 2010}, write code to:\n",
    "\n",
    "## Change the year to 2015.\n",
    "## Add a new key 'color' with the value 'blue'.\n",
    "## Delete the 'model' key-value pair.\n",
    "## Print the updated dictionary."
   ]
  },
  {
   "cell_type": "code",
   "execution_count": 11,
   "id": "bd676ce1",
   "metadata": {},
   "outputs": [
    {
     "name": "stdout",
     "output_type": "stream",
     "text": [
      "{'make': 'toyota', 'model': 'corolla', 'year': 2015}\n",
      "{'make': 'toyota', 'model': 'corolla', 'year': 2015, 'color': 'blue'}\n",
      "{'make': 'toyota', 'year': 2015, 'color': 'blue'}\n"
     ]
    }
   ],
   "source": [
    "car = {'make': 'toyota', 'model': 'corolla', 'year': 2010}\n",
    "car['year'] = 2015\n",
    "print(car)\n",
    "\n",
    "car['color'] = 'blue'\n",
    "print(car)\n",
    "\n",
    "car.pop('model')\n",
    "print(car)"
   ]
  },
  {
   "cell_type": "code",
   "execution_count": null,
   "id": "f11581f4",
   "metadata": {},
   "outputs": [],
   "source": [
    "## 3. Looping Through a Dictionary\n",
    "## Objective: Loop through all keys, all values, and all key-value pairs in a dictionary.\n",
    "\n",
    "## Given a dictionary scores = {'alice': 92, 'bob': 87, 'charlie': 99}, write three separate loops to:\n",
    "\n",
    "## Print each key (name) in the dictionary.\n",
    "## Print each value (score) in the dictionary.\n",
    "## Print each key-value pair in the format \"alice: 92\"."
   ]
  },
  {
   "cell_type": "code",
   "execution_count": 20,
   "id": "5940af47",
   "metadata": {},
   "outputs": [
    {
     "name": "stdout",
     "output_type": "stream",
     "text": [
      "alice\n",
      "bob\n",
      "charlie\n",
      "92\n",
      "87\n",
      "99\n",
      "alice:92\n",
      "bob:87\n",
      "charlie:99\n"
     ]
    }
   ],
   "source": [
    "scores = {'alice': 92, 'bob': 87, 'charlie': 99}\n",
    "\n",
    "for k in scores.keys():\n",
    "    print(k)\n",
    "\n",
    "for v in scores.values():\n",
    "    print(v)\n",
    "\n",
    "for k,v in scores.items():\n",
    "    print(k + ':' + str(v)).     ## Convert the value to a string and concatenate with the key and a comma\n"
   ]
  },
  {
   "cell_type": "code",
   "execution_count": null,
   "id": "2eef594f",
   "metadata": {},
   "outputs": [],
   "source": [
    "## 4. Nesting: List of Dictionaries\n",
    "## Objective: Store dictionaries in a list and loop through them to access data.\n",
    "## Create a list named pets that contains three dictionaries. Each dictionary should represent a pet\n",
    "## with keys: 'type', 'name', and 'owner'. Write code to loop through the list and print a summary for each\n",
    "## pet in the format: \"name (type) is owned by owner\"."
   ]
  },
  {
   "cell_type": "code",
   "execution_count": null,
   "id": "1feac20c",
   "metadata": {},
   "outputs": [
    {
     "name": "stdout",
     "output_type": "stream",
     "text": [
      "[{'type': 'Mayne Coon', 'name': 'Whiskers', 'owner': 'Sarah Johnson'}, {'type': 'Siamese', 'name': 'Mochi', 'owner': 'David Kim'}, {'type': 'Scottish Fold', 'name': 'Luna', 'owner': 'Priya Patel'}]\n",
      "Whiskers (Mayne Coon) is owned by Sarah Johnson\n",
      "Mochi (Siamese) is owned by David Kim\n",
      "Luna (Scottish Fold) is owned by Priya Patel\n"
     ]
    }
   ],
   "source": [
    "# List of dictionaries, each representing a pet with the correct keys\n",
    "pets = [\n",
    "    {'type': 'Mayne Coon', 'name': 'Whiskers', 'owner': 'Sarah Johnson'},\n",
    "    {'type': 'Siamese', 'name': 'Mochi', 'owner': 'David Kim'},\n",
    "    {'type': 'Scottish Fold', 'name': 'Luna', 'owner': 'Priya Patel'}\n",
    "]\n",
    "\n",
    "\n",
    "print(pets)\n",
    "\n",
    "# Mistake 1: Previously, you used a nested loop (for k, v in pet.items()),\n",
    "# which caused the summary line to print multiple times for each pet.\n",
    "# Correction: Remove the inner loop and print the summary once per pet.\n",
    "\n",
    "\n",
    "\n",
    "for pet in pets:\n",
    "    # Correct: Directly access the values for 'name', 'type', and 'owner'\n",
    "    # and print the summary in the required format.\n",
    "    print(pet['name'] + ' (' + pet['type'] + ') is owned by ' + pet['owner'])"
   ]
  },
  {
   "cell_type": "code",
   "execution_count": null,
   "id": "0cb498dd",
   "metadata": {},
   "outputs": [],
   "source": [
    "## 5. Dictionaries with List Values (Nesting)\n",
    "## Objective: Store lists as values in a dictionary and loop through to print the data.\n",
    "\n",
    "## Create a dictionary named favorite_foods where the keys are people's names and the values are lists\n",
    "## of their favorite foods. Include at least three people, and for each, at least two foods. Write code\n",
    "## to print each person's name followed by their favorite foods, each on a new line and formatted as a\n",
    "##  bulleted list."
   ]
  },
  {
   "cell_type": "code",
   "execution_count": 33,
   "id": "eeb277f7",
   "metadata": {},
   "outputs": [
    {
     "name": "stdout",
     "output_type": "stream",
     "text": [
      "{'Davide': ['pizza', 'riso'], 'Serena': ['pasta', 'insalata'], 'Federico': ['lasagna', 'bistecca']}\n",
      "Davide's favourite food\n",
      "- pizza\n",
      "- riso\n",
      "Serena's favourite food\n",
      "- pasta\n",
      "- insalata\n",
      "Federico's favourite food\n",
      "- lasagna\n",
      "- bistecca\n"
     ]
    }
   ],
   "source": [
    "favorite_foods = {'Davide': ['pizza', 'riso'], 'Serena': ['pasta', 'insalata'], 'Federico': ['lasagna', 'bistecca']}\n",
    "print(favorite_foods)\n",
    "\n",
    "\n",
    "for k, v in favorite_foods.items():\n",
    "    print(k+\"'s favourite food\")\n",
    "    for food in v:\n",
    "        print('-', food)\n",
    "\n"
   ]
  }
 ],
 "metadata": {
  "kernelspec": {
   "display_name": "Python 3",
   "language": "python",
   "name": "python3"
  },
  "language_info": {
   "codemirror_mode": {
    "name": "ipython",
    "version": 3
   },
   "file_extension": ".py",
   "mimetype": "text/x-python",
   "name": "python",
   "nbconvert_exporter": "python",
   "pygments_lexer": "ipython3",
   "version": "3.11.3"
  }
 },
 "nbformat": 4,
 "nbformat_minor": 5
}
