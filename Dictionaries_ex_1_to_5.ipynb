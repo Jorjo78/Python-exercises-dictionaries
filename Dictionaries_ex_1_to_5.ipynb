{
 "cells": [
  {
   "cell_type": "code",
   "execution_count": null,
   "id": "28ed4f2b",
   "metadata": {},
   "outputs": [],
   "source": [
    "## 1. Creating and Accessing a Dictionary\n",
    "## Objective: Practice defining a dictionary and accessing its values using keys.\n",
    "\n",
    "## Create a dictionary called book that stores the following information: the title (\"1984\"),\n",
    "## the author (\"George Orwell\"), and the year published (1949). Write code to print each value from\n",
    "## the dictionary using its key."
   ]
  },
  {
   "cell_type": "code",
   "execution_count": null,
   "id": "4e8bc77a",
   "metadata": {},
   "outputs": [],
   "source": []
  },
  {
   "cell_type": "code",
   "execution_count": null,
   "id": "212ef3b8",
   "metadata": {},
   "outputs": [],
   "source": [
    "## 2. Modifying and Deleting Dictionary Entries\n",
    "## Objective: Practice modifying existing values, adding new key-value pairs, and removing pairs from a dictionary.\n",
    "\n",
    "## Given a dictionary car = {'make': 'toyota', 'model': 'corolla', 'year': 2010}, write code to:\n",
    "\n",
    "## Change the year to 2015.\n",
    "## Add a new key 'color' with the value 'blue'.\n",
    "## Delete the 'model' key-value pair.\n",
    "## Print the updated dictionary."
   ]
  },
  {
   "cell_type": "code",
   "execution_count": null,
   "id": "c0c4581b",
   "metadata": {},
   "outputs": [],
   "source": []
  },
  {
   "cell_type": "code",
   "execution_count": null,
   "id": "f11581f4",
   "metadata": {},
   "outputs": [],
   "source": [
    "## 3. Looping Through a Dictionary\n",
    "## Objective: Loop through all keys, all values, and all key-value pairs in a dictionary.\n",
    "\n",
    "## Given a dictionary scores = {'alice': 92, 'bob': 87, 'charlie': 99}, write three separate loops to:\n",
    "\n",
    "## Print each key (name) in the dictionary.\n",
    "## Print each value (score) in the dictionary.\n",
    "## Print each key-value pair in the format \"alice: 92\"."
   ]
  },
  {
   "cell_type": "code",
   "execution_count": null,
   "id": "8fcc7f92",
   "metadata": {},
   "outputs": [],
   "source": []
  },
  {
   "cell_type": "code",
   "execution_count": null,
   "id": "2eef594f",
   "metadata": {},
   "outputs": [],
   "source": [
    "## 4. Nesting: List of Dictionaries\n",
    "## Objective: Store dictionaries in a list and loop through them to access data.\n",
    "## Create a list named pets that contains three dictionaries. Each dictionary should represent a pet\n",
    "## with keys: 'type', 'name', and 'owner'. Write code to loop through the list and print a summary for each\n",
    "## pet in the format: \"name (type) is owned by owner\"."
   ]
  },
  {
   "cell_type": "code",
   "execution_count": null,
   "id": "5043d5ab",
   "metadata": {},
   "outputs": [],
   "source": []
  },
  {
   "cell_type": "code",
   "execution_count": null,
   "id": "0cb498dd",
   "metadata": {},
   "outputs": [],
   "source": [
    "## 5. Dictionaries with List Values (Nesting)\n",
    "## Objective: Store lists as values in a dictionary and loop through to print the data.\n",
    "\n",
    "## Create a dictionary named favorite_foods where the keys are people's names and the values are lists\n",
    "## of their favorite foods. Include at least three people, and for each, at least two foods. Write code\n",
    "## to print each person's name followed by their favorite foods, each on a new line and formatted as a\n",
    "##  bulleted list."
   ]
  },
  {
   "cell_type": "code",
   "execution_count": null,
   "id": "e361d621",
   "metadata": {},
   "outputs": [],
   "source": []
  }
 ],
 "metadata": {
  "language_info": {
   "name": "python"
  }
 },
 "nbformat": 4,
 "nbformat_minor": 5
}
